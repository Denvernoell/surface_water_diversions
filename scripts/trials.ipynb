{
 "cells": [
  {
   "cell_type": "code",
   "execution_count": null,
   "metadata": {},
   "outputs": [],
   "source": []
  }
 ],
 "metadata": {
  "kernelspec": {
   "display_name": "Python 3.10.4 ('pandas-analysis-pSGX_PKJ-py3.10')",
   "language": "python",
   "name": "python3"
  },
  "language_info": {
   "name": "python",
   "version": "3.10.4"
  },
  "orig_nbformat": 4,
  "vscode": {
   "interpreter": {
    "hash": "017bf9b655c26cc9684d72cf80cbc3448421050109bedaefe1d82803180be393"
   }
  }
 },
 "nbformat": 4,
 "nbformat_minor": 2
}
