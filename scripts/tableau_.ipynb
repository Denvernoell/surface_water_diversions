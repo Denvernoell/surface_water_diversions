{
 "cells": [
  {
   "cell_type": "code",
   "execution_count": 1,
   "metadata": {},
   "outputs": [
    {
     "ename": "AttributeError",
     "evalue": "'NoneType' object has no attribute 'text'",
     "output_type": "error",
     "traceback": [
      "\u001b[1;31m---------------------------------------------------------------------------\u001b[0m",
      "\u001b[1;31mAttributeError\u001b[0m                            Traceback (most recent call last)",
      "Cell \u001b[1;32mIn[1], line 12\u001b[0m\n\u001b[0;32m     10\u001b[0m \tautomatic_c \u001b[39m=\u001b[39m curtailment_chowchilla\u001b[39m.\u001b[39mpipe(\u001b[39mlambda\u001b[39;00m df: [i \u001b[39mfor\u001b[39;00m i \u001b[39min\u001b[39;00m df[\u001b[39m'\u001b[39m\u001b[39mCurrently Curtailed? (Automatic)\u001b[39m\u001b[39m'\u001b[39m]\u001b[39m.\u001b[39munique()])\n\u001b[0;32m     11\u001b[0m \t\u001b[39mreturn\u001b[39;00m manual_c \u001b[39m==\u001b[39m automatic_c \u001b[39m==\u001b[39m [\u001b[39m'\u001b[39m\u001b[39mNot Curtailed\u001b[39m\u001b[39m'\u001b[39m]\n\u001b[1;32m---> 12\u001b[0m get_curtailment_status()\n",
      "Cell \u001b[1;32mIn[1], line 5\u001b[0m, in \u001b[0;36mget_curtailment_status\u001b[1;34m()\u001b[0m\n\u001b[0;32m      3\u001b[0m url \u001b[39m=\u001b[39m\u001b[39m'\u001b[39m\u001b[39mhttps://public.tableau.com/shared/Y7D4HBGG2\u001b[39m\u001b[39m'\u001b[39m\n\u001b[0;32m      4\u001b[0m ts \u001b[39m=\u001b[39m TS()\n\u001b[1;32m----> 5\u001b[0m ts\u001b[39m.\u001b[39;49mloads(url)\n\u001b[0;32m      6\u001b[0m wb \u001b[39m=\u001b[39m ts\u001b[39m.\u001b[39mgetWorkbook()\n\u001b[0;32m      7\u001b[0m df \u001b[39m=\u001b[39m wb\u001b[39m.\u001b[39mgetCsvData(\u001b[39m'\u001b[39m\u001b[39mCurtailment List\u001b[39m\u001b[39m'\u001b[39m)\n",
      "File \u001b[1;32mc:\\Users\\Denver\\AppData\\Local\\pypoetry\\Cache\\virtualenvs\\pandas-analysis-pSGX_PKJ-py3.10\\lib\\site-packages\\tableauscraper\\TableauScraper.py:80\u001b[0m, in \u001b[0;36mTableauScraper.loads\u001b[1;34m(self, url, params)\u001b[0m\n\u001b[0;32m     76\u001b[0m     r \u001b[39m=\u001b[39m api\u001b[39m.\u001b[39mgetTableauVizForSession(\u001b[39mself\u001b[39m, \u001b[39mself\u001b[39m\u001b[39m.\u001b[39msession, url)\n\u001b[0;32m     77\u001b[0m     soup \u001b[39m=\u001b[39m BeautifulSoup(r, \u001b[39m\"\u001b[39m\u001b[39mhtml.parser\u001b[39m\u001b[39m\"\u001b[39m)\n\u001b[0;32m     79\u001b[0m \u001b[39mself\u001b[39m\u001b[39m.\u001b[39mtableauData \u001b[39m=\u001b[39m json\u001b[39m.\u001b[39mloads(\n\u001b[1;32m---> 80\u001b[0m     soup\u001b[39m.\u001b[39;49mfind(\u001b[39m\"\u001b[39;49m\u001b[39mtextarea\u001b[39;49m\u001b[39m\"\u001b[39;49m, {\u001b[39m\"\u001b[39;49m\u001b[39mid\u001b[39;49m\u001b[39m\"\u001b[39;49m: \u001b[39m\"\u001b[39;49m\u001b[39mtsConfigContainer\u001b[39;49m\u001b[39m\"\u001b[39;49m})\u001b[39m.\u001b[39;49mtext\n\u001b[0;32m     81\u001b[0m )\n\u001b[0;32m     83\u001b[0m uri \u001b[39m=\u001b[39m urlparse(url)\n\u001b[0;32m     84\u001b[0m \u001b[39mself\u001b[39m\u001b[39m.\u001b[39mhost \u001b[39m=\u001b[39m \u001b[39m\"\u001b[39m\u001b[39m{uri.scheme}\u001b[39;00m\u001b[39m://\u001b[39m\u001b[39m{uri.netloc}\u001b[39;00m\u001b[39m\"\u001b[39m\u001b[39m.\u001b[39mformat(uri\u001b[39m=\u001b[39muri)\n",
      "\u001b[1;31mAttributeError\u001b[0m: 'NoneType' object has no attribute 'text'"
     ]
    }
   ],
   "source": [
    "# https://www.waterboards.ca.gov/drought/delta/#tableau\n",
    "\n",
    "def get_curtailment_status():\n",
    "\tfrom tableauscraper import TableauScraper as TS\n",
    "\turl ='https://public.tableau.com/shared/Y7D4HBGG2'\n",
    "\tts = TS()\n",
    "\tts.loads(url)\n",
    "\twb = ts.getWorkbook()\n",
    "\tdf = wb.getCsvData('Curtailment List')\n",
    "\tcurtailment_chowchilla = df.pipe(lambda df: df.loc[df['Subwatershed'] == 'Chowchilla'])\n",
    "\tmanual_c = curtailment_chowchilla.pipe(lambda df: [i for i in df['Currently Curtailed? (Manual Changes)'].unique()])\n",
    "\tautomatic_c = curtailment_chowchilla.pipe(lambda df: [i for i in df['Currently Curtailed? (Automatic)'].unique()])\n",
    "\treturn manual_c == automatic_c == ['Not Curtailed']\n",
    "\n",
    "get_curtailment_status()"
   ]
  }
 ],
 "metadata": {
  "kernelspec": {
   "display_name": "Python 3.10.4 ('pandas-analysis-pSGX_PKJ-py3.10')",
   "language": "python",
   "name": "python3"
  },
  "language_info": {
   "codemirror_mode": {
    "name": "ipython",
    "version": 3
   },
   "file_extension": ".py",
   "mimetype": "text/x-python",
   "name": "python",
   "nbconvert_exporter": "python",
   "pygments_lexer": "ipython3",
   "version": "3.10.4"
  },
  "orig_nbformat": 4,
  "vscode": {
   "interpreter": {
    "hash": "017bf9b655c26cc9684d72cf80cbc3448421050109bedaefe1d82803180be393"
   }
  }
 },
 "nbformat": 4,
 "nbformat_minor": 2
}
